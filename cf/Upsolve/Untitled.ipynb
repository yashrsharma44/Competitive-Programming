{
 "cells": [
  {
   "cell_type": "code",
   "execution_count": 49,
   "metadata": {},
   "outputs": [],
   "source": [
    "def words(sentence, ignoreCase=False):\n",
    "    if ignoreCase:\n",
    "            sentence = sentence.lower()\n",
    "    sentence = sentence.replace(\".\",\"\")\n",
    "    lst = sentence.split(\" \")\n",
    "    return lst"
   ]
  },
  {
   "cell_type": "code",
   "execution_count": 68,
   "metadata": {},
   "outputs": [],
   "source": [
    "def contains(sentence, pattern, ignoreCase=False, consecutive=False):\n",
    "\n",
    "    lst1 = words(sentence, ignoreCase)\n",
    "    lst2 = words(pattern, ignoreCase)\n",
    "\n",
    "    index_arr = []\n",
    "    for i, word1 in enumerate(lst2):\n",
    "        for j, word2 in enumerate(lst1):\n",
    "            if(word1 == word2 and not j in index_arr):\n",
    "                index_arr.append(j)\n",
    "\n",
    "    if not consecutive:\n",
    "        index_arr.sort()\n",
    "    if len(index_arr) > 0:\n",
    "        for i in range(1,len(index_arr)):\n",
    "            if index_arr[i] < index_arr[i-1]:\n",
    "                return False\n",
    "        return len(index_arr) == len(lst2)\n",
    "    else:\n",
    "        return False"
   ]
  },
  {
   "cell_type": "code",
   "execution_count": 69,
   "metadata": {},
   "outputs": [
    {
     "data": {
      "text/plain": [
       "False"
      ]
     },
     "execution_count": 69,
     "metadata": {},
     "output_type": "execute_result"
    }
   ],
   "source": [
    "s1 = \"Donald Trump is the 45th President of the United States.\"\n",
    "s2 = \"president Trump\"\n",
    "contains(s1, s2, ignoreCase=True, consecutive=True)"
   ]
  },
  {
   "cell_type": "code",
   "execution_count": 129,
   "metadata": {},
   "outputs": [],
   "source": [
    "def origin(filename, pattern, ignoreCase=False, consecutive=False):\n",
    "    \n",
    "    from datetime import date\n",
    "    file = open(filename)\n",
    "    prevTimeStamp = None\n",
    "    prevSentence = \"\"\n",
    "    for line in file:\n",
    "        line = line.strip()\n",
    "        if \"@\" in line:\n",
    "            if len(prevSentence) > 0:\n",
    "                if(contains(line, pattern, ignoreCase, consecutive)):\n",
    "                    YY = int(prevTimeStamp[0:4])\n",
    "                    MM = int(prevTimeStamp[5:7])\n",
    "                    DD = int(prevTimeStamp[8:])\n",
    "                    return date(YY,MM,DD)\n",
    "            print(\"---\",prevSentence)\n",
    "            prevSentence = \"\"\n",
    "            prevTimeStamp = line.split(\"@\")[1]\n",
    "        else:\n",
    "            newSen = prevSentence +\" \" + line\n",
    "            prevSentence = newSen\n",
    "\n",
    "    if len(prevSentence) > 0:\n",
    "        if(contains(line, pattern, ignoreCase, consecutive)):\n",
    "            YY = int(prevTimeStamp[0:4])\n",
    "            MM = int(prevTimeStamp[5:7])\n",
    "            DD = int(prevTimeStamp[8:])\n",
    "            return date(YY,MM,DD)\n",
    "    return None"
   ]
  },
  {
   "cell_type": "code",
   "execution_count": 130,
   "metadata": {},
   "outputs": [
    {
     "name": "stdout",
     "output_type": "stream",
     "text": [
      "--- \n",
      "---  Donald J. Trump is the 45th President of the United States. He believes the United States has incredible potential and will go on to exceed anything that it has achieved in the past. His campaign slogan was Make America Great Again, and that is exactly what he intends to do. Donald J. Trump is the very definition of the ...\n",
      "---  Dec 29, 2017 - President Trump gave an impromptu half-hour interview with the New York Times on Dec. 28. We combed through the transcript and here's a quick roundup of the false, misleading or dubious claims that he made, at a rate of one every 75 seconds. (Some of the interview was off the record, so it's possible the rate of false ...\n",
      "---  President Donald Trump on Wednesday hailed congressional Republicans' ambitious $1.5 trillion rewrite of the tax code as a win for middle-class Americans. Interested in Taxes? Add Taxes as an interest to stay up to date on the latest Taxes news, video, and analysis from ABC News. Taxes. Add Interest. He took a victory ...\n",
      "---  Donald Trump may be the current president, but in terms of who Americans most admire, his predecessor and the person he beat in the 2016 election top the list. Barack Obama edged his successor as the most admired man for 2017, a Gallup poll finds, marking the first time since 2008 when a sitting president didn't win the ...\n",
      "---  With my plan in place, jobs will grow, family incomes will rise and we will make America great again.\n",
      "---  President Trump discussed a range of issues with The New York Times, including the Russia inquiry, the tax overhaul and China, at his golf club in West Palm Beach, Fla.\n",
      "---  The president is embracing an \"us versus them\" conflict involving politics, patriotism and popular American pasttimes.\n",
      "---  Nov 22, 2017 - Thanksgiving, a day aptly named for giving thanks, is nearly upon us. With that in mind, let's take a look at some of the things President Donald Trump has publicly given thanks for. Check out the video above for a full survey of Trump's #blessings.\n",
      "None\n"
     ]
    }
   ],
   "source": [
    "filename = \"/home/yash/Downloads/president_trump.txt\"\n",
    "s2 = \"donald trump\"\n",
    "print(origin(filename, s2, ignoreCase=True))"
   ]
  },
  {
   "cell_type": "code",
   "execution_count": null,
   "metadata": {},
   "outputs": [],
   "source": []
  },
  {
   "cell_type": "code",
   "execution_count": null,
   "metadata": {},
   "outputs": [],
   "source": []
  }
 ],
 "metadata": {
  "kernelspec": {
   "display_name": "Python 3",
   "language": "python",
   "name": "python3"
  },
  "language_info": {
   "codemirror_mode": {
    "name": "ipython",
    "version": 3
   },
   "file_extension": ".py",
   "mimetype": "text/x-python",
   "name": "python",
   "nbconvert_exporter": "python",
   "pygments_lexer": "ipython3",
   "version": "3.5.2"
  }
 },
 "nbformat": 4,
 "nbformat_minor": 2
}
